{
  "nbformat": 4,
  "nbformat_minor": 0,
  "metadata": {
    "colab": {
      "name": "Fashion-MNIST Kaggle Challenge .ipynb",
      "provenance": [],
      "collapsed_sections": [],
      "toc_visible": true
    },
    "kernelspec": {
      "name": "python3",
      "display_name": "Python 3"
    }
  },
  "cells": [
    {
      "cell_type": "markdown",
      "metadata": {
        "id": "QQoFNiVB1Ypu",
        "colab_type": "text"
      },
      "source": [
        "## Import statements"
      ]
    },
    {
      "cell_type": "code",
      "metadata": {
        "id": "EK6eTSMh1Ugc",
        "colab_type": "code",
        "colab": {}
      },
      "source": [
        "import numpy as np\n",
        "import os\n",
        "import pandas as pd\n",
        "from sklearn.model_selection import train_test_split\n",
        "from sklearn import preprocessing\n",
        "import tensorflow as tf\n",
        "from keras.layers import Input,Conv2D,MaxPooling2D,UpSampling2D, Dense, Flatten\n",
        "from keras.models import Model, Sequential\n",
        "from keras.optimizers import RMSprop"
      ],
      "execution_count": 0,
      "outputs": []
    },
    {
      "cell_type": "code",
      "metadata": {
        "id": "aOFybqyY19Q0",
        "colab_type": "code",
        "colab": {}
      },
      "source": [
        "#!pip install kaggle"
      ],
      "execution_count": 0,
      "outputs": []
    },
    {
      "cell_type": "code",
      "metadata": {
        "id": "JQOySpr32AtH",
        "colab_type": "code",
        "colab": {}
      },
      "source": [
        "#!kaggle competitions download -c winter2020-mais-202"
      ],
      "execution_count": 0,
      "outputs": []
    },
    {
      "cell_type": "markdown",
      "metadata": {
        "id": "xTuFTK06zF2z",
        "colab_type": "text"
      },
      "source": [
        "## Load the data\n"
      ]
    },
    {
      "cell_type": "code",
      "metadata": {
        "id": "FY3zDtPk2cny",
        "colab_type": "code",
        "outputId": "dd809eaa-5584-4d23-fbbe-0f89b0d4e677",
        "colab": {
          "base_uri": "https://localhost:8080/",
          "height": 170
        }
      },
      "source": [
        "!unzip winter2020-mais-202.zip\n",
        "!ls"
      ],
      "execution_count": 0,
      "outputs": [
        {
          "output_type": "stream",
          "text": [
            "Archive:  winter2020-mais-202.zip\n",
            "  inflating: label_int_to_str_mapping.csv  \n",
            "  inflating: sample_submission.csv   \n",
            "  inflating: test_images.npy         \n",
            "  inflating: train_images.npy        \n",
            "  inflating: train_labels.csv        \n",
            "label_int_to_str_mapping.csv  test_images.npy\twinter2020-mais-202.zip\n",
            "sample_data\t\t      train_images.npy\n",
            "sample_submission.csv\t      train_labels.csv\n"
          ],
          "name": "stdout"
        }
      ]
    },
    {
      "cell_type": "code",
      "metadata": {
        "id": "riBoBzzQ9xI1",
        "colab_type": "code",
        "colab": {}
      },
      "source": [
        "train_images = np.load(\"train_images.npy\")\n",
        "test_images = np.load(\"test_images.npy\")"
      ],
      "execution_count": 0,
      "outputs": []
    },
    {
      "cell_type": "markdown",
      "metadata": {
        "id": "mYJzIGHt-QZr",
        "colab_type": "text"
      },
      "source": [
        "# visualize an image"
      ]
    },
    {
      "cell_type": "code",
      "metadata": {
        "id": "rQPFRJiU-E2x",
        "colab_type": "code",
        "outputId": "7fcdf843-a570-45dd-dda2-4d583f8e65c6",
        "colab": {
          "base_uri": "https://localhost:8080/",
          "height": 265
        }
      },
      "source": [
        "import matplotlib.pyplot as plt\n",
        "\n",
        "def show_image(arr):\n",
        "    two_d = (np.reshape(arr, (28, 28)) * 255).astype(np.uint8)\n",
        "    plt.imshow(two_d, interpolation='nearest')\n",
        "    plt.show()\n",
        "\n",
        "show_image(train_images[0]) # 0 is the index of the training image you want to display"
      ],
      "execution_count": 0,
      "outputs": [
        {
          "output_type": "display_data",
          "data": {
            "image/png": "[encoded data removed]",
            "text/plain": [
              "<Figure size 432x288 with 1 Axes>"
            ]
          },
          "metadata": {
            "tags": []
          }
        }
      ]
    },
    {
      "cell_type": "code",
      "metadata": {
        "id": "LfjGYQRO-f7t",
        "colab_type": "code",
        "colab": {}
      },
      "source": [
        "train_labels = np.array((pd.read_csv(\"train_labels.csv\", index_col = 'ID')) ).astype(int)\n",
        "\n",
        "#flatten the images\n",
        "data1=[]\n",
        "data2=[]\n",
        "for img in train_images:\n",
        "  image_flatten=img.flatten()\n",
        "  np.reshape(image_flatten, (28, 28))\n",
        "  data1.append(image_flatten)\n",
        "for img in test_images:\n",
        "  image_flatten=img.flatten()\n",
        "  np.reshape(image_flatten, (28, 28))\n",
        "  data2.append(image_flatten)\n",
        "#scale the pixel to range [0,1]\n",
        "train_images = np.array(data1, dtype=\"float\") /255\n",
        "test_images = np.array(data2, dtype=\"float\") /255"
      ],
      "execution_count": 0,
      "outputs": []
    },
    {
      "cell_type": "code",
      "metadata": {
        "id": "vFmfJwQP3_Nt",
        "colab_type": "code",
        "outputId": "354f51a6-067c-4104-dfa4-1c84263cbbb2",
        "colab": {
          "base_uri": "https://localhost:8080/",
          "height": 68
        }
      },
      "source": [
        "print(train_images.shape)\n",
        "print(train_labels.shape)\n",
        "print(train_labels[0])"
      ],
      "execution_count": 0,
      "outputs": [
        {
          "output_type": "stream",
          "text": [
            "(50000, 784)\n",
            "(50000, 1)\n",
            "[6]\n"
          ],
          "name": "stdout"
        }
      ]
    },
    {
      "cell_type": "code",
      "metadata": {
        "id": "wCFDo40xAcVi",
        "colab_type": "code",
        "colab": {}
      },
      "source": [
        "#img_rows, img_cols = 28, 28\n",
        "#input_shape = (img_rows, img_cols, 1)"
      ],
      "execution_count": 0,
      "outputs": []
    },
    {
      "cell_type": "code",
      "metadata": {
        "id": "dUScRdRIC3W2",
        "colab_type": "code",
        "outputId": "3c7d942c-b6f6-4929-d511-9912311547df",
        "colab": {
          "base_uri": "https://localhost:8080/",
          "height": 34
        }
      },
      "source": [
        "# get a validation set\n",
        "size = int (len(train_images) *0.2)\n",
        "print(size)\n",
        "train_images = train_images[:-size]\n",
        "train_labels = train_labels[:-size].squeeze()\n",
        "valid_images = train_images[-size:]\n",
        "valid_labels = train_labels[-size:].squeeze()"
      ],
      "execution_count": 0,
      "outputs": [
        {
          "output_type": "stream",
          "text": [
            "10000\n"
          ],
          "name": "stdout"
        }
      ]
    },
    {
      "cell_type": "code",
      "metadata": {
        "id": "Zz1g8bzo3hd5",
        "colab_type": "code",
        "outputId": "c8273380-ae4b-45a7-a374-9e56e0059088",
        "colab": {
          "base_uri": "https://localhost:8080/",
          "height": 51
        }
      },
      "source": [
        "print(train_labels.shape)\n",
        "print(train_images.shape)"
      ],
      "execution_count": 0,
      "outputs": [
        {
          "output_type": "stream",
          "text": [
            "(40000,)\n",
            "(40000, 784)\n"
          ],
          "name": "stdout"
        }
      ]
    },
    {
      "cell_type": "code",
      "metadata": {
        "id": "Wm21wD6GQg0K",
        "colab_type": "code",
        "outputId": "dd05f4fe-b860-4082-fefe-123dae533355",
        "colab": {
          "base_uri": "https://localhost:8080/",
          "height": 34
        }
      },
      "source": [
        "#lb = preprocessing.LabelBinarizer()\n",
        "#train_labels = lb.fit_transform(train_labels)\n",
        "#valid_labels = lb.transform(valid_labels)\n",
        "#print(train_labels[0])"
      ],
      "execution_count": 0,
      "outputs": [
        {
          "output_type": "stream",
          "text": [
            "[0 0 0 0 0 0 1 0 0 0]\n"
          ],
          "name": "stdout"
        }
      ]
    },
    {
      "cell_type": "code",
      "metadata": {
        "id": "4ZtPikSiYVNO",
        "colab_type": "code",
        "colab": {}
      },
      "source": [
        "'''\n",
        "x = Input(shape=(28,28))\n",
        "\n",
        "#Encoder\n",
        "h = Dense(hidden_size, activation='relu', activity_regularizer=regularizers.l1(10e-5))(x)\n",
        "\n",
        "# Decoder\n",
        "r = Dense(output_size, activation='sigmoid')(h)\n",
        "\n",
        "autoencoder = Model(input=x, output=r)\n",
        "autoencoder.compile(optimizer='adam', loss='mse')\n",
        "'''"
      ],
      "execution_count": 0,
      "outputs": []
    },
    {
      "cell_type": "code",
      "metadata": {
        "id": "XSqxYhenaAGx",
        "colab_type": "code",
        "colab": {}
      },
      "source": [
        "#train_images, valid_images = train_images.reshape(-1, 28 * 28), valid_images.reshape(-1, 28 * 28)\n",
        "\n",
        "train_images, valid_images = train_images.reshape((-1, 28, 28, 1)), valid_images.reshape((-1, 28, 28, 1))"
      ],
      "execution_count": 0,
      "outputs": []
    },
    {
      "cell_type": "markdown",
      "metadata": {
        "id": "yy3_KKjb0EzO",
        "colab_type": "text"
      },
      "source": [
        "#Model"
      ]
    },
    {
      "cell_type": "code",
      "metadata": {
        "id": "XTXdSyF6gfPB",
        "colab_type": "code",
        "outputId": "3f7a8f26-a153-40c1-e26e-f065da4f79f2",
        "colab": {
          "base_uri": "https://localhost:8080/",
          "height": 527
        }
      },
      "source": [
        "'''\n",
        "batch_size = 128\n",
        "epochs = 50\n",
        "inChannel = 1\n",
        "x, y = 28, 28\n",
        "input_img = Input(shape = (x, y, inChannel))\n",
        "\n",
        "def autoencoder(input_img):\n",
        "    #encoder\n",
        "    #input = 28 x 28 x 1 (wide and thin)\n",
        "    conv1 = Conv2D(32, (3, 3), activation='relu', padding='same')(input_img) #28 x 28 x 32\n",
        "    pool1 = MaxPooling2D(pool_size=(2, 2))(conv1) #14 x 14 x 32\n",
        "    conv2 = Conv2D(64, (3, 3), activation='relu', padding='same')(pool1) #14 x 14 x 64\n",
        "    pool2 = MaxPooling2D(pool_size=(2, 2))(conv2) #7 x 7 x 64\n",
        "    conv3 = Conv2D(128, (3, 3), activation='relu', padding='same')(pool2) #7 x 7 x 128 (small and thick)\n",
        "\n",
        "    #decoder\n",
        "    conv4 = Conv2D(128, (3, 3), activation='relu', padding='same')(conv3) #7 x 7 x 128\n",
        "    up1 = UpSampling2D((2,2))(conv4) # 14 x 14 x 128\n",
        "    conv5 = Conv2D(64, (3, 3), activation='relu', padding='same')(up1) # 14 x 14 x 64\n",
        "    up2 = UpSampling2D((2,2))(conv5) # 28 x 28 x 64\n",
        "    decoded = Conv2D(1, (3, 3), activation='sigmoid', padding='same')(up2) # 28 x 28 x 1\n",
        "    return decoded\n",
        "\n",
        "autoencoder = Model(input_img, autoencoder(input_img))\n",
        "autoencoder.compile(loss='mean_squared_error', optimizer = RMSprop())\n",
        "autoencoder.summary()\n",
        "'''"
      ],
      "execution_count": 0,
      "outputs": [
        {
          "output_type": "stream",
          "text": [
            "Model: \"model_2\"\n",
            "_________________________________________________________________\n",
            "Layer (type)                 Output Shape              Param #   \n",
            "=================================================================\n",
            "input_3 (InputLayer)         (None, 28, 28, 1)         0         \n",
            "_________________________________________________________________\n",
            "conv2d_7 (Conv2D)            (None, 28, 28, 32)        320       \n",
            "_________________________________________________________________\n",
            "max_pooling2d_3 (MaxPooling2 (None, 14, 14, 32)        0         \n",
            "_________________________________________________________________\n",
            "conv2d_8 (Conv2D)            (None, 14, 14, 64)        18496     \n",
            "_________________________________________________________________\n",
            "max_pooling2d_4 (MaxPooling2 (None, 7, 7, 64)          0         \n",
            "_________________________________________________________________\n",
            "conv2d_9 (Conv2D)            (None, 7, 7, 128)         73856     \n",
            "_________________________________________________________________\n",
            "conv2d_10 (Conv2D)           (None, 7, 7, 128)         147584    \n",
            "_________________________________________________________________\n",
            "up_sampling2d_3 (UpSampling2 (None, 14, 14, 128)       0         \n",
            "_________________________________________________________________\n",
            "conv2d_11 (Conv2D)           (None, 14, 14, 64)        73792     \n",
            "_________________________________________________________________\n",
            "up_sampling2d_4 (UpSampling2 (None, 28, 28, 64)        0         \n",
            "_________________________________________________________________\n",
            "conv2d_12 (Conv2D)           (None, 28, 28, 1)         577       \n",
            "=================================================================\n",
            "Total params: 314,625\n",
            "Trainable params: 314,625\n",
            "Non-trainable params: 0\n",
            "_________________________________________________________________\n"
          ],
          "name": "stdout"
        }
      ]
    },
    {
      "cell_type": "code",
      "metadata": {
        "id": "tHtqHAxihOez",
        "colab_type": "code",
        "colab": {}
      },
      "source": [
        "#autoencoder_train = autoencoder.fit(train_images, train_labels, batch_size=batch_size,epochs=epochs,verbose=1,validation_data=(valid_images, valid_labels))"
      ],
      "execution_count": 0,
      "outputs": []
    },
    {
      "cell_type": "markdown",
      "metadata": {
        "id": "xeHPLUeS0WSp",
        "colab_type": "text"
      },
      "source": [
        "# Model 2"
      ]
    },
    {
      "cell_type": "code",
      "metadata": {
        "id": "RkH2e0D8akGK",
        "colab_type": "code",
        "colab": {}
      },
      "source": [
        "'''\n",
        "singleton_shape = (1, 28 * 28)\n",
        "encoding_dim = 8\n",
        "\n",
        "encoder = tf.keras.models.Sequential([\n",
        "  tf.keras.layers.Dense(512, activation=tf.nn.relu, input_shape=(28 * 28,)),\n",
        "  tf.keras.layers.Dense(encoding_dim, activation=tf.nn.sigmoid),\n",
        "])\n",
        "\n",
        "decoder = tf.keras.models.Sequential([\n",
        "  tf.keras.layers.Dense(encoding_dim, activation=tf.nn.sigmoid, input_shape=(encoding_dim,)),\n",
        "  tf.keras.layers.Dense(512, activation=tf.nn.relu),\n",
        "  tf.keras.layers.Dense(28 * 28, activation=tf.nn.sigmoid),\n",
        "])\n",
        "autoencoder = tf.keras.models.Sequential([encoder,decoder])\n",
        "\n",
        "autoencoder.compile(optimizer='adam',\n",
        "              loss='binary_crossentropy')\n",
        "\n",
        "\n",
        "autoencoder.fit(train_images, x_train,\n",
        "                epochs=100,\n",
        "                batch_size=256,\n",
        "                shuffle=True,\n",
        "                validation_data=(x_test, x_test))\n",
        "'''"
      ],
      "execution_count": 0,
      "outputs": []
    },
    {
      "cell_type": "markdown",
      "metadata": {
        "id": "5Yn2JVgt0exO",
        "colab_type": "text"
      },
      "source": [
        "# Model 3 - The Real one"
      ]
    },
    {
      "cell_type": "code",
      "metadata": {
        "id": "X9D-eTg-0hdB",
        "colab_type": "code",
        "outputId": "b75aa5a0-6abf-47a7-8626-8b2c2c09982f",
        "colab": {
          "base_uri": "https://localhost:8080/",
          "height": 391
        }
      },
      "source": [
        "model = Sequential([\n",
        "  Conv2D(64, kernel_size=3, activation='relu', input_shape=(28,28,1)),\n",
        "  Conv2D(32, kernel_size=3, activation='relu'),\n",
        "  Flatten(),\n",
        "  Dense(10, activation='softmax')\n",
        "])\n",
        "\n",
        "model.compile(optimizer='adam',loss='sparse_categorical_crossentropy',metrics=['accuracy'])\n",
        "model.fit(train_images, train_labels, epochs=10,validation_data=(valid_images, valid_labels))\n"
      ],
      "execution_count": 0,
      "outputs": [
        {
          "output_type": "stream",
          "text": [
            "Train on 40000 samples, validate on 10000 samples\n",
            "Epoch 1/10\n",
            "40000/40000 [==============================] - 127s 3ms/step - loss: 0.6160 - acc: 0.7788 - val_loss: 0.4479 - val_acc: 0.8347\n",
            "Epoch 2/10\n",
            "40000/40000 [==============================] - 129s 3ms/step - loss: 0.4371 - acc: 0.8428 - val_loss: 0.3903 - val_acc: 0.8567\n",
            "Epoch 3/10\n",
            "40000/40000 [==============================] - 128s 3ms/step - loss: 0.3828 - acc: 0.8604 - val_loss: 0.3203 - val_acc: 0.8854\n",
            "Epoch 4/10\n",
            "40000/40000 [==============================] - 129s 3ms/step - loss: 0.3425 - acc: 0.8738 - val_loss: 0.2771 - val_acc: 0.9013\n",
            "Epoch 5/10\n",
            "40000/40000 [==============================] - 130s 3ms/step - loss: 0.3045 - acc: 0.8888 - val_loss: 0.2413 - val_acc: 0.9140\n",
            "Epoch 6/10\n",
            "40000/40000 [==============================] - 128s 3ms/step - loss: 0.2682 - acc: 0.9013 - val_loss: 0.2408 - val_acc: 0.9133\n",
            "Epoch 7/10\n",
            "40000/40000 [==============================] - 129s 3ms/step - loss: 0.2326 - acc: 0.9149 - val_loss: 0.1873 - val_acc: 0.9330\n",
            "Epoch 8/10\n",
            "40000/40000 [==============================] - 128s 3ms/step - loss: 0.2021 - acc: 0.9245 - val_loss: 0.1533 - val_acc: 0.9462\n",
            "Epoch 9/10\n",
            "40000/40000 [==============================] - 128s 3ms/step - loss: 0.1714 - acc: 0.9365 - val_loss: 0.1298 - val_acc: 0.9528\n",
            "Epoch 10/10\n",
            "40000/40000 [==============================] - 126s 3ms/step - loss: 0.1462 - acc: 0.9466 - val_loss: 0.1150 - val_acc: 0.9597\n"
          ],
          "name": "stdout"
        },
        {
          "output_type": "execute_result",
          "data": {
            "text/plain": [
              "<keras.callbacks.History at 0x7ff6f38b62e8>"
            ]
          },
          "metadata": {
            "tags": []
          },
          "execution_count": 15
        }
      ]
    },
    {
      "cell_type": "code",
      "metadata": {
        "id": "UV7N59TP9BjH",
        "colab_type": "code",
        "colab": {}
      },
      "source": [
        "#model.evaluate(valid_images, valid_labels)"
      ],
      "execution_count": 0,
      "outputs": []
    },
    {
      "cell_type": "code",
      "metadata": {
        "id": "qkxfKaaoapTg",
        "colab_type": "code",
        "colab": {}
      },
      "source": [
        "#test_images = np.load('test_images.npy').squeeze()\n",
        "#test_images = test_images.reshape(len(test_images), -1)\n",
        "test_images=test_images.reshape((-1, 28, 28, 1))\n",
        "y_test = model.predict_classes(test_images)\n",
        "\n",
        "df_test = pd.read_csv('sample_submission.csv')\n",
        "df_test['label'] = y_test\n",
        "df_test.to_csv('submission.csv', index=False)"
      ],
      "execution_count": 0,
      "outputs": []
    }
  ]
}