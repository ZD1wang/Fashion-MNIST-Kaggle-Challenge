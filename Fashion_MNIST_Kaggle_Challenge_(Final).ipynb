{
  "nbformat": 4,
  "nbformat_minor": 0,
  "metadata": {
    "colab": {
      "name": "Fashion-MNIST-Kaggle-Challenge (Final)",
      "provenance": [],
      "collapsed_sections": []
    },
    "kernelspec": {
      "name": "python3",
      "display_name": "Python 3"
    }
  },
  "cells": [
    {
      "cell_type": "code",
      "metadata": {
        "id": "drLtO9ceK3nk",
        "colab_type": "code",
        "outputId": "d1346aa7-a534-466a-d9ed-a9e5e5de84be",
        "colab": {
          "base_uri": "https://localhost:8080/",
          "height": 153
        }
      },
      "source": [
        "import numpy as np\n",
        "import pandas as pd\n",
        "\n",
        "# Input data files are available in the \"data/\" directory.\n",
        "# For example, running this will list the files in the input directory\n",
        "from subprocess import check_output\n",
        "print(check_output([\"ls\"]).decode(\"utf8\"))"
      ],
      "execution_count": 0,
      "outputs": [
        {
          "output_type": "stream",
          "text": [
            "label_int_to_str_mapping.csv\n",
            "sample_data\n",
            "sample_submission.csv\n",
            "test_images.npy\n",
            "train_images.npy\n",
            "train_labels.csv\n",
            "winter2020-mais-202.zip\n",
            "\n"
          ],
          "name": "stdout"
        }
      ]
    },
    {
      "cell_type": "code",
      "metadata": {
        "id": "-okuBJQ6LZlO",
        "colab_type": "code",
        "outputId": "8e0adb3e-84c2-4ba1-b46e-f6dd96118ae3",
        "colab": {
          "base_uri": "https://localhost:8080/",
          "height": 170
        }
      },
      "source": [
        "!unzip /content/winter2020-mais-202.zip\n",
        "!ls"
      ],
      "execution_count": 0,
      "outputs": [
        {
          "output_type": "stream",
          "text": [
            "Archive:  /content/winter2020-mais-202.zip\n",
            "  inflating: label_int_to_str_mapping.csv  \n",
            "  inflating: sample_submission.csv   \n",
            "  inflating: test_images.npy         \n",
            "  inflating: train_images.npy        \n",
            "  inflating: train_labels.csv        \n",
            "label_int_to_str_mapping.csv  test_images.npy\twinter2020-mais-202.zip\n",
            "sample_data\t\t      train_images.npy\n",
            "sample_submission.csv\t      train_labels.csv\n"
          ],
          "name": "stdout"
        }
      ]
    },
    {
      "cell_type": "code",
      "metadata": {
        "id": "Ek4P0BUnMZVX",
        "colab_type": "code",
        "colab": {}
      },
      "source": [
        "y_train = pd.read_csv(\"train_labels.csv\").label.values\n",
        "y_test = pd.read_csv(\"sample_submission.csv\").label.values\n"
      ],
      "execution_count": 0,
      "outputs": []
    },
    {
      "cell_type": "code",
      "metadata": {
        "id": "RFvOOTpSK7eR",
        "colab_type": "code",
        "outputId": "c6ac1c1c-8214-4f87-cc69-4dfb3ccc24f8",
        "colab": {
          "base_uri": "https://localhost:8080/",
          "height": 97
        }
      },
      "source": [
        "# Import libraries\n",
        "from keras.utils import to_categorical\n",
        "from sklearn.model_selection import train_test_split\n",
        "\n",
        "# # Load training and test data into dataframes\n",
        "data_train = np.load('train_images.npy')\n",
        "data_test = np.load('test_images.npy')\n",
        "\n",
        "# # X forms the training images, and y forms the training labels\n",
        "# X = np.array(data_train.iloc[:, 1:])\n",
        "y_train = to_categorical(y_train)\n",
        "y_test = to_categorical(y_test)\n",
        "\n",
        "# Here I split original training data to sub-training (80%) and validation data (20%)\n",
        "X_train, X_val, y_train, y_val = train_test_split(data_train, y_train, test_size=0.2, random_state=13)\n",
        "\n",
        "# X_test forms the test images, and y_test forms the test labels\n",
        "X_test = np.load('test_images.npy')\n",
        "\n"
      ],
      "execution_count": 0,
      "outputs": [
        {
          "output_type": "stream",
          "text": [
            "Using TensorFlow backend.\n"
          ],
          "name": "stderr"
        },
        {
          "output_type": "display_data",
          "data": {
            "text/html": [
              "<p style=\"color: red;\">\n",
              "The default version of TensorFlow in Colab will soon switch to TensorFlow 2.x.<br>\n",
              "We recommend you <a href=\"https://www.tensorflow.org/guide/migrate\" target=\"_blank\">upgrade</a> now \n",
              "or ensure your notebook will continue to use TensorFlow 1.x via the <code>%tensorflow_version 1.x</code> magic:\n",
              "<a href=\"https://colab.research.google.com/notebooks/tensorflow_version.ipynb\" target=\"_blank\">more info</a>.</p>\n"
            ],
            "text/plain": [
              "<IPython.core.display.HTML object>"
            ]
          },
          "metadata": {
            "tags": []
          }
        }
      ]
    },
    {
      "cell_type": "code",
      "metadata": {
        "id": "Mh8A4lWlK_Zb",
        "colab_type": "code",
        "outputId": "a74d0fc7-b25a-40db-e50d-9baf183496ea",
        "colab": {
          "base_uri": "https://localhost:8080/",
          "height": 51
        }
      },
      "source": [
        "print(X_train.shape)\n",
        "#Processing data\n",
        "# Each image's dimension is 28 x 28\n",
        "img_rows, img_cols = 28, 28\n",
        "input_shape = (img_rows, img_cols, 1)\n",
        "\n",
        "# Prepare the training images\n",
        "X_train = X_train.reshape(X_train.shape[0], img_rows, img_cols, 1)\n",
        "X_train = X_train.astype('float32')\n",
        "X_train /= 255\n",
        "\n",
        "# Prepare the test images\n",
        "X_test = X_test.reshape(X_test.shape[0], img_rows, img_cols, 1)\n",
        "X_test = X_test.astype('float32')\n",
        "X_test /= 255\n",
        "print(X_test.shape)\n",
        "# Prepare the validation images\n",
        "X_val = X_val.reshape(X_val.shape[0], img_rows, img_cols, 1)\n",
        "X_val = X_val.astype('float32')\n",
        "X_val /= 255"
      ],
      "execution_count": 0,
      "outputs": [
        {
          "output_type": "stream",
          "text": [
            "(40000, 28, 28)\n",
            "(20000, 28, 28, 1)\n"
          ],
          "name": "stdout"
        }
      ]
    },
    {
      "cell_type": "code",
      "metadata": {
        "id": "qv1h083jLHu5",
        "colab_type": "code",
        "outputId": "f2bbd6b9-c517-4790-e6f4-f0bf589d9f12",
        "colab": {
          "base_uri": "https://localhost:8080/",
          "height": 258
        }
      },
      "source": [
        "# Import Keras libraries\n",
        "import keras\n",
        "from keras.models import Sequential\n",
        "from keras.layers import Dense, Dropout, Flatten\n",
        "from keras.layers import Conv2D, MaxPooling2D\n",
        "\n",
        "cnn1 = Sequential()\n",
        "cnn1.add(Conv2D(32, kernel_size=(3, 3), activation='relu', input_shape=input_shape))\n",
        "cnn1.add(MaxPooling2D(pool_size=(2, 2)))\n",
        "cnn1.add(Dropout(0.2))\n",
        "\n",
        "cnn1.add(Flatten())\n",
        "\n",
        "cnn1.add(Dense(128, activation='relu'))\n",
        "cnn1.add(Dense(10, activation='softmax'))\n"
      ],
      "execution_count": 0,
      "outputs": [
        {
          "output_type": "stream",
          "text": [
            "WARNING:tensorflow:From /usr/local/lib/python3.6/dist-packages/keras/backend/tensorflow_backend.py:66: The name tf.get_default_graph is deprecated. Please use tf.compat.v1.get_default_graph instead.\n",
            "\n",
            "WARNING:tensorflow:From /usr/local/lib/python3.6/dist-packages/keras/backend/tensorflow_backend.py:541: The name tf.placeholder is deprecated. Please use tf.compat.v1.placeholder instead.\n",
            "\n",
            "WARNING:tensorflow:From /usr/local/lib/python3.6/dist-packages/keras/backend/tensorflow_backend.py:4432: The name tf.random_uniform is deprecated. Please use tf.random.uniform instead.\n",
            "\n",
            "WARNING:tensorflow:From /usr/local/lib/python3.6/dist-packages/keras/backend/tensorflow_backend.py:4267: The name tf.nn.max_pool is deprecated. Please use tf.nn.max_pool2d instead.\n",
            "\n",
            "WARNING:tensorflow:From /usr/local/lib/python3.6/dist-packages/keras/backend/tensorflow_backend.py:148: The name tf.placeholder_with_default is deprecated. Please use tf.compat.v1.placeholder_with_default instead.\n",
            "\n",
            "WARNING:tensorflow:From /usr/local/lib/python3.6/dist-packages/keras/backend/tensorflow_backend.py:3733: calling dropout (from tensorflow.python.ops.nn_ops) with keep_prob is deprecated and will be removed in a future version.\n",
            "Instructions for updating:\n",
            "Please use `rate` instead of `keep_prob`. Rate should be set to `rate = 1 - keep_prob`.\n"
          ],
          "name": "stdout"
        }
      ]
    },
    {
      "cell_type": "code",
      "metadata": {
        "id": "ynQksz0TLJyN",
        "colab_type": "code",
        "outputId": "4249afaa-8bf9-481d-92e2-3e0f37aff63e",
        "colab": {
          "base_uri": "https://localhost:8080/",
          "height": 105
        }
      },
      "source": [
        "cnn1.compile(loss=keras.losses.categorical_crossentropy,\n",
        "             optimizer=keras.optimizers.Adam(),\n",
        "              metrics=['accuracy'])"
      ],
      "execution_count": 0,
      "outputs": [
        {
          "output_type": "stream",
          "text": [
            "WARNING:tensorflow:From /usr/local/lib/python3.6/dist-packages/keras/optimizers.py:793: The name tf.train.Optimizer is deprecated. Please use tf.compat.v1.train.Optimizer instead.\n",
            "\n",
            "WARNING:tensorflow:From /usr/local/lib/python3.6/dist-packages/keras/backend/tensorflow_backend.py:3576: The name tf.log is deprecated. Please use tf.math.log instead.\n",
            "\n"
          ],
          "name": "stdout"
        }
      ]
    },
    {
      "cell_type": "code",
      "metadata": {
        "id": "F9EwuGdELLjv",
        "colab_type": "code",
        "outputId": "9a43c975-b003-450d-948e-39f88df29f58",
        "colab": {
          "base_uri": "https://localhost:8080/",
          "height": 357
        }
      },
      "source": [
        "cnn1.summary()"
      ],
      "execution_count": 0,
      "outputs": [
        {
          "output_type": "stream",
          "text": [
            "Model: \"sequential_1\"\n",
            "_________________________________________________________________\n",
            "Layer (type)                 Output Shape              Param #   \n",
            "=================================================================\n",
            "conv2d_1 (Conv2D)            (None, 26, 26, 32)        320       \n",
            "_________________________________________________________________\n",
            "max_pooling2d_1 (MaxPooling2 (None, 13, 13, 32)        0         \n",
            "_________________________________________________________________\n",
            "dropout_1 (Dropout)          (None, 13, 13, 32)        0         \n",
            "_________________________________________________________________\n",
            "flatten_1 (Flatten)          (None, 5408)              0         \n",
            "_________________________________________________________________\n",
            "dense_1 (Dense)              (None, 128)               692352    \n",
            "_________________________________________________________________\n",
            "dense_2 (Dense)              (None, 10)                1290      \n",
            "=================================================================\n",
            "Total params: 693,962\n",
            "Trainable params: 693,962\n",
            "Non-trainable params: 0\n",
            "_________________________________________________________________\n"
          ],
          "name": "stdout"
        }
      ]
    },
    {
      "cell_type": "code",
      "metadata": {
        "id": "s5RiSXIWLOFK",
        "colab_type": "code",
        "outputId": "a645b60e-ece9-4397-fbdb-876ddeee3b2a",
        "colab": {
          "base_uri": "https://localhost:8080/",
          "height": 768
        }
      },
      "source": [
        "print(X_train.shape)\n",
        "y_train = y_train.reshape(y_train.shape[0],10)\n",
        "print(y_train.shape)\n",
        "histroy1 = cnn1.fit(X_train, y_train, batch_size=256, epochs=20, verbose=1, validation_data=(X_val, y_val))"
      ],
      "execution_count": 0,
      "outputs": [
        {
          "output_type": "stream",
          "text": [
            "(40000, 28, 28, 1)\n",
            "(40000, 10)\n",
            "Train on 40000 samples, validate on 10000 samples\n",
            "Epoch 1/20\n",
            "40000/40000 [==============================] - 22s 557us/step - loss: 0.1712 - acc: 0.9387 - val_loss: 0.4427 - val_acc: 0.8533\n",
            "Epoch 2/20\n",
            "40000/40000 [==============================] - 22s 560us/step - loss: 0.1626 - acc: 0.9403 - val_loss: 0.4407 - val_acc: 0.8555\n",
            "Epoch 3/20\n",
            "40000/40000 [==============================] - 22s 560us/step - loss: 0.1568 - acc: 0.9431 - val_loss: 0.4576 - val_acc: 0.8573\n",
            "Epoch 4/20\n",
            "40000/40000 [==============================] - 22s 554us/step - loss: 0.1495 - acc: 0.9468 - val_loss: 0.4577 - val_acc: 0.8580\n",
            "Epoch 5/20\n",
            "40000/40000 [==============================] - 22s 552us/step - loss: 0.1452 - acc: 0.9483 - val_loss: 0.4477 - val_acc: 0.8587\n",
            "Epoch 6/20\n",
            "40000/40000 [==============================] - 22s 548us/step - loss: 0.1401 - acc: 0.9499 - val_loss: 0.4513 - val_acc: 0.8593\n",
            "Epoch 7/20\n",
            "40000/40000 [==============================] - 22s 550us/step - loss: 0.1302 - acc: 0.9542 - val_loss: 0.4636 - val_acc: 0.8548\n",
            "Epoch 8/20\n",
            "40000/40000 [==============================] - 22s 553us/step - loss: 0.1277 - acc: 0.9540 - val_loss: 0.4795 - val_acc: 0.8541\n",
            "Epoch 9/20\n",
            "40000/40000 [==============================] - 22s 560us/step - loss: 0.1226 - acc: 0.9559 - val_loss: 0.4906 - val_acc: 0.8513\n",
            "Epoch 10/20\n",
            "40000/40000 [==============================] - 23s 569us/step - loss: 0.1168 - acc: 0.9588 - val_loss: 0.4737 - val_acc: 0.8608\n",
            "Epoch 11/20\n",
            "40000/40000 [==============================] - 22s 555us/step - loss: 0.1116 - acc: 0.9603 - val_loss: 0.4855 - val_acc: 0.8585\n",
            "Epoch 12/20\n",
            "40000/40000 [==============================] - 22s 562us/step - loss: 0.1080 - acc: 0.9624 - val_loss: 0.5057 - val_acc: 0.8551\n",
            "Epoch 13/20\n",
            "40000/40000 [==============================] - 22s 561us/step - loss: 0.1032 - acc: 0.9642 - val_loss: 0.5043 - val_acc: 0.8544\n",
            "Epoch 14/20\n",
            "40000/40000 [==============================] - 22s 559us/step - loss: 0.0985 - acc: 0.9660 - val_loss: 0.5112 - val_acc: 0.8556\n",
            "Epoch 15/20\n",
            "40000/40000 [==============================] - 22s 558us/step - loss: 0.0968 - acc: 0.9654 - val_loss: 0.5017 - val_acc: 0.8570\n",
            "Epoch 16/20\n",
            "40000/40000 [==============================] - 22s 554us/step - loss: 0.0917 - acc: 0.9685 - val_loss: 0.5303 - val_acc: 0.8542\n",
            "Epoch 17/20\n",
            "40000/40000 [==============================] - 22s 555us/step - loss: 0.0864 - acc: 0.9702 - val_loss: 0.5399 - val_acc: 0.8533\n",
            "Epoch 18/20\n",
            "40000/40000 [==============================] - 22s 558us/step - loss: 0.0819 - acc: 0.9716 - val_loss: 0.5337 - val_acc: 0.8580\n",
            "Epoch 19/20\n",
            "40000/40000 [==============================] - 22s 561us/step - loss: 0.0792 - acc: 0.9727 - val_loss: 0.5322 - val_acc: 0.8555\n",
            "Epoch 20/20\n",
            "40000/40000 [==============================] - 22s 562us/step - loss: 0.0769 - acc: 0.9734 - val_loss: 0.5446 - val_acc: 0.8572\n"
          ],
          "name": "stdout"
        }
      ]
    },
    {
      "cell_type": "code",
      "metadata": {
        "id": "LWKcifJUUNVp",
        "colab_type": "code",
        "outputId": "3b8eb024-2bcf-4011-fcfd-20591b070a22",
        "colab": {
          "base_uri": "https://localhost:8080/",
          "height": 68
        }
      },
      "source": [
        "# X_test = X_test.reshape(x_test.shape[0], img_rows, img_cols, 1)\n",
        "score1 = cnn1.evaluate(X_test, y_test, verbose=1)\n",
        "print('Test loss: ', score1[0])\n",
        "print('Test accuracy: ', score1[1])"
      ],
      "execution_count": 0,
      "outputs": [
        {
          "output_type": "stream",
          "text": [
            "20000/20000 [==============================] - 5s 238us/step\n",
            "Test loss:  9.88024481048584\n",
            "Test accuracy:  0.1011\n"
          ],
          "name": "stdout"
        }
      ]
    },
    {
      "cell_type": "code",
      "metadata": {
        "id": "V4NF0Q3IaTCM",
        "colab_type": "code",
        "colab": {}
      },
      "source": [
        "test_images = X_test.reshape((-1, 28, 28, 1))\n",
        "y_test = cnn1.predict_classes(test_images)\n",
        "\n",
        "df_test = pd.read_csv('sample_submission.csv')\n",
        "df_test['label'] = y_test\n",
        "df_test.to_csv('submission4.csv', index=False)"
      ],
      "execution_count": 0,
      "outputs": []
    }
  ]
}